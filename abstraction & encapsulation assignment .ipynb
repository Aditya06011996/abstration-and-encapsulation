{
 "cells": [
  {
   "cell_type": "markdown",
   "id": "7448c456-5ded-4925-b92e-115e6e712594",
   "metadata": {},
   "source": [
    "Q 1 What is Abstraction in oops ? Explain with an example."
   ]
  },
  {
   "cell_type": "markdown",
   "id": "49d140ad-089e-4341-85d0-476607cc45c7",
   "metadata": {},
   "source": [
    "Ans - Abstraction is the process of hiding the internal details of an application from the outer world. Abstraction is used to describe things in simple terms. It is used to create a boundary between the application and the client programs."
   ]
  },
  {
   "cell_type": "markdown",
   "id": "a0d194d6-b176-4ca7-b5b6-b566cc16a832",
   "metadata": {},
   "source": [
    "For example - Your car is a good example of Abstraction . You can start a car by turning the key or pressing the start button. You don't need to know how the engine is getting started, what all components your car has. The car internal implementation and complex logic is completely hidden from the user."
   ]
  },
  {
   "cell_type": "markdown",
   "id": "82d2bbf4-95d7-46c9-8934-88c9d7b8d089",
   "metadata": {},
   "source": [
    "Q 2 Differentiate between Abstraction and Encapsulation. Explain with examples."
   ]
  },
  {
   "cell_type": "markdown",
   "id": "4f726dc7-d126-4c33-94c1-9a6a86c87d10",
   "metadata": {},
   "source": [
    "Ans 2 Defination- 1. Abstraction is hiding the details and implementation of code.\n",
    "                  2. Encapsulation is hiding the data and controlling the visibility of the code. \n",
    "       \n",
    "     Phase - 1.Abstraction is design level process.\n",
    "             2.Encapsulation is an implementation level process.\n",
    "             \n",
    "     Pivotal ability - 1.Abstraction is concerned about what a class instance can do,instead of the implementation of the                          class.\n",
    "                       2.Encapsulation helps in data binding and control over maintaining the transparency of the data.\n",
    "                       \n",
    "                       "
   ]
  },
  {
   "cell_type": "markdown",
   "id": "fb6efa7d-00ae-4315-b159-0d3347abaefc",
   "metadata": {},
   "source": [
    "Q 3 What is abc module in python? Why is it used?"
   ]
  },
  {
   "cell_type": "markdown",
   "id": "840ddb21-0526-4252-ace2-9d045469fddd",
   "metadata": {},
   "source": [
    "Ans 3 - The abc module in python library provides the infrastructure for defining custom abstract base classes.\n",
    "        abc works by marking methods of the base class as abstract. This is done by @abstractmethod decorator."
   ]
  },
  {
   "cell_type": "markdown",
   "id": "dc3a98f1-07f2-4e1d-b7fc-a0570c4a0924",
   "metadata": {},
   "source": [
    "Q 4 How can we achieve data abstraction?"
   ]
  },
  {
   "cell_type": "markdown",
   "id": "b9eff585-7ac8-4e46-95e9-8848666c8c7a",
   "metadata": {},
   "source": [
    "Ans - Abstraction can be achieved by using abstract classes and interfaces.\n",
    "      "
   ]
  },
  {
   "cell_type": "markdown",
   "id": "486f60a2-7a1a-46b8-b87b-1b83a9b8c973",
   "metadata": {},
   "source": [
    "Q 5 Can we create an instance of an abstract class? Explain your answer."
   ]
  },
  {
   "cell_type": "markdown",
   "id": "de0beac6-7b7e-4457-85e8-cea998ed96b0",
   "metadata": {},
   "source": [
    "Ans - Abstract classes are not complete, as they may have some methods that are not defined . So we cannot create an instance or object of an abstract class in python."
   ]
  },
  {
   "cell_type": "code",
   "execution_count": null,
   "id": "b69ad2f4-9b14-40d6-b9f9-5852f9321dd2",
   "metadata": {},
   "outputs": [],
   "source": []
  }
 ],
 "metadata": {
  "kernelspec": {
   "display_name": "Python 3 (ipykernel)",
   "language": "python",
   "name": "python3"
  },
  "language_info": {
   "codemirror_mode": {
    "name": "ipython",
    "version": 3
   },
   "file_extension": ".py",
   "mimetype": "text/x-python",
   "name": "python",
   "nbconvert_exporter": "python",
   "pygments_lexer": "ipython3",
   "version": "3.10.8"
  }
 },
 "nbformat": 4,
 "nbformat_minor": 5
}
